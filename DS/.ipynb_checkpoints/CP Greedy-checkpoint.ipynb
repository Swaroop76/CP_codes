{
 "cells": [
  {
   "cell_type": "markdown",
   "id": "8131dd8f-c2dd-497d-b371-78c69fb60b7e",
   "metadata": {},
   "source": [
    "# Maximum Length of Pair Chain (Medium)\n",
    "\n",
    "You are given array of n pairs where pairs[i]=[lefti,righti] and lefti<right.\n",
    "\n",
    "A pair p2=[c,d] follows a pair p1=[a,b] if b<c. A chain of pairs can be formed in this fashion.\n",
    "\n",
    "Return the length of longest chain which can be formed.\n",
    "\n",
    "You do not need to use up all the given intervals. You can select pairs in any order.\n",
    "\n",
    "Example 1:\n",
    "```\n",
    "Input : pairs=[[1,2],[2,3],[3,4]]\n",
    "Output : 2\n",
    "```\n",
    "**Explanation** : The longest chain is [1,2]->[3,4].\n",
    "\n",
    "Example 2:\n",
    "\n",
    "```\n",
    "Input: pairs=[[1,2],[7,8],[4,5]]\n",
    "Output : 3\n",
    "```\n"
   ]
  },
  {
   "cell_type": "code",
   "execution_count": null,
   "id": "d3b5526c-0838-4df7-8b23-8cb6f0eecb81",
   "metadata": {},
   "outputs": [],
   "source": [
    "def findLongestChain(pairs):\n",
    "    pairs.sort(key=lambda x: x[1])\n",
    "    print(pairs)\n",
    "\n",
    "    current_end=float('-inf')\n",
    "    longest_chain=0\n",
    "\n",
    "    for pair in pairs:\n",
    "        if pair[0]>current_end:\n",
    "            current_end=pair[1]\n",
    "            longest_chain+=1\n",
    "\n",
    "    return longest_chain\n",
    "\n"
   ]
  },
  {
   "cell_type": "markdown",
   "id": "8881e4e4-263f-400b-b575-4d132c1db132",
   "metadata": {},
   "source": [
    "# Split Array into Consecutive Subsequences (Medium)"
   ]
  },
  {
   "cell_type": "code",
   "execution_count": null,
   "id": "90e13af3-9769-4a26-ad99-2a00ab08aa99",
   "metadata": {},
   "outputs": [],
   "source": [
    "def isPossible(nums):\n",
    "    count={}\n",
    "    for num in nums:\n",
    "        count[num]=count.get(num,0)+1\n",
    "    end={}\n",
    "    for num in nums:\n",
    "        if count[num]==0:\n",
    "            continue\n",
    "        count[num]-=1\n",
    "        if end.get(num-1,0)>0:\n",
    "            end[num-1]-=1\n",
    "            end[num]=end.get(num,0)\n",
    "        elif count.get(num+1,0)>0 and count.get(num+2,0)>0:\n",
    "            count[num+1]-=1\n",
    "            count[num+2]-=1\n",
    "            end[num+2]=end.get(num+2,0)+1\n",
    "        else:\n",
    "            return False\n",
    "    return True"
   ]
  },
  {
   "cell_type": "markdown",
   "id": "5cf24f1e-8e56-41b8-b0b9-99d3dcee1ac7",
   "metadata": {},
   "source": [
    "# Maximum Swap (Medium)"
   ]
  },
  {
   "cell_type": "code",
   "execution_count": null,
   "id": "dd7146e7-aac1-43f0-bde7-fc53a941ab4e",
   "metadata": {},
   "outputs": [],
   "source": [
    "def maximumSwap(num):\n",
    "    list_num=[x for x in str(num)]\n",
    "    \n",
    "    p1,p2=0,0\n",
    "    max_digit=len(list_num)-1\n",
    "    \n",
    "    for i in range(len(list_num)-1,-1,-1):\n",
    "        if list_num[i]>list_num[max_digit]:\n",
    "            max_digit=i\n",
    "        elif list_num[i]<list_num[max_digit]:\n",
    "            p1,p2=i,max_digit\n",
    "    \n",
    "    list_num[p1],list_num[p2]=list_num[p2],list_num[p1]\n",
    "    \n",
    "    return int(\"\".join(list_num))"
   ]
  },
  {
   "cell_type": "markdown",
   "id": "aae0a7ad-ba59-41e8-af2a-05df1bd863c0",
   "metadata": {},
   "source": [
    "# Valid Parenthesis String"
   ]
  },
  {
   "cell_type": "code",
   "execution_count": null,
   "id": "418efa20-74fe-42c6-90c6-cf04155f349e",
   "metadata": {},
   "outputs": [],
   "source": [
    "def checkValidString(s):\n",
    "    lo=hi=0\n",
    "    for c in s:\n",
    "        lo+=1 if c=='(' else -1\n",
    "        hi+=1 if c!=')' else -1\n",
    "        if hi<0: break\n",
    "        lo=max(lo,0)\n",
    "\n",
    "    return lo==0"
   ]
  },
  {
   "cell_type": "markdown",
   "id": "8031413f-cfac-4319-abdf-b1e9e44199c4",
   "metadata": {},
   "source": [
    "# Best Time to Buy and Sell Stock II"
   ]
  },
  {
   "cell_type": "code",
   "execution_count": null,
   "id": "3af8a7cb-116f-4b25-9799-4cc77bcc4d7b",
   "metadata": {},
   "outputs": [],
   "source": [
    "def maxProfit(prices):\n",
    "    profit=0\n",
    "        for i in range(1,len(prices)):\n",
    "            if prices[i]>prices[i-1]:\n",
    "                profit+=(prices[i]-prices[i-1])\n",
    "        return profit"
   ]
  },
  {
   "cell_type": "markdown",
   "id": "ff19f61a-9ba0-4579-9338-fc3fb81c3ba6",
   "metadata": {},
   "source": [
    "# Best Time to Buy and Sell Stock III"
   ]
  },
  {
   "cell_type": "code",
   "execution_count": null,
   "id": "880f9f40-f6d3-47b4-a575-09b986404b5c",
   "metadata": {},
   "outputs": [],
   "source": [
    "def maxProfit(prices):\n",
    "    initial=0\n",
    "    bought1=float('-inf')\n",
    "    sold1=0\n",
    "    bought2=float('-inf')\n",
    "    sold2=0\n",
    "    for x in prices:\n",
    "        bought1=max(initial-x,bought1)\n",
    "        sold1=max(bought1+x,sold1)\n",
    "        bought2=max(sold1-x,bought2)\n",
    "        sold2=max(bought2+x,sold2)\n",
    "    return sold2\n",
    "    "
   ]
  }
 ],
 "metadata": {
  "kernelspec": {
   "display_name": "Python 3 (ipykernel)",
   "language": "python",
   "name": "python3"
  },
  "language_info": {
   "codemirror_mode": {
    "name": "ipython",
    "version": 3
   },
   "file_extension": ".py",
   "mimetype": "text/x-python",
   "name": "python",
   "nbconvert_exporter": "python",
   "pygments_lexer": "ipython3",
   "version": "3.10.8"
  }
 },
 "nbformat": 4,
 "nbformat_minor": 5
}
